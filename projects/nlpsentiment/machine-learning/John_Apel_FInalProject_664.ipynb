{
  "nbformat": 4,
  "nbformat_minor": 0,
  "metadata": {
    "colab": {
      "provenance": []
    },
    "kernelspec": {
      "name": "python3",
      "display_name": "Python 3"
    },
    "language_info": {
      "name": "python"
    }
  },
  "cells": [
    {
      "cell_type": "code",
      "source": [
        "import pandas as pd\n",
        "import nltk\n",
        "import re\n",
        "from collections import Counter\n",
        "import random\n",
        "import numpy as np\n",
        "from sklearn.feature_extraction import DictVectorizer\n",
        "from sklearn.linear_model import LogisticRegression\n",
        "from sklearn.ensemble import RandomForestClassifier\n",
        "from sklearn.model_selection import cross_val_score, cross_validate, train_test_split\n",
        "from sklearn.metrics import classification_report, confusion_matrix\n",
        "from nltk.corpus import stopwords\n",
        "from nltk.tokenize import word_tokenize\n",
        "from nltk.classify import NaiveBayesClassifier\n",
        "from nltk.classify.util import accuracy\n",
        "from nltk.sentiment import SentimentIntensityAnalyzer\n",
        "import matplotlib.pyplot as plt\n",
        "import seaborn as sns\n",
        "import gc  # Garbage collection for memory management\n",
        "\n",
        "# Download required NLTK data\n",
        "nltk.download(\"punkt_tab\", quiet=True)\n",
        "nltk.download(\"stopwords\", quiet=True)\n",
        "nltk.download(\"averaged_perceptron_tagger\", quiet=True)\n",
        "nltk.download(\"vader_lexicon\", quiet=True)\n"
      ],
      "metadata": {
        "id": "QXy_xzgNpN5f",
        "colab": {
          "base_uri": "https://localhost:8080/"
        },
        "outputId": "9b102598-4339-40fc-a686-3bfa5fa2e6e6"
      },
      "execution_count": 1,
      "outputs": [
        {
          "output_type": "execute_result",
          "data": {
            "text/plain": [
              "True"
            ]
          },
          "metadata": {},
          "execution_count": 1
        }
      ]
    },
    {
      "cell_type": "code",
      "source": [
        "# Memory-efficient data loading\n",
        "print(\"Loading dataset...\")\n",
        "df = pd.read_csv(\"train.tsv\", sep=\"\\t\")\n",
        "\n",
        "# Sample data if too large (for memory efficiency)\n",
        "if len(df) > 50000:\n",
        "    print(f\"Dataset has {len(df)} rows. Sampling 50,000 for memory efficiency...\")\n",
        "    df = df.sample(n=50000, random_state=42).reset_index(drop=True)\n",
        "\n",
        "print(\"Dataset shape:\", df.shape)\n",
        "print(\"Sentiment distribution:\")\n",
        "print(df['Sentiment'].value_counts())"
      ],
      "metadata": {
        "colab": {
          "base_uri": "https://localhost:8080/"
        },
        "id": "rlf33EsHpcxg",
        "outputId": "538515b0-6bdd-484f-fb8d-e7b390379934"
      },
      "execution_count": 2,
      "outputs": [
        {
          "output_type": "stream",
          "name": "stdout",
          "text": [
            "Loading dataset...\n",
            "Dataset has 156060 rows. Sampling 50,000 for memory efficiency...\n",
            "Dataset shape: (50000, 4)\n",
            "Sentiment distribution:\n",
            "Sentiment\n",
            "2    25202\n",
            "3    10691\n",
            "1     8792\n",
            "4     3034\n",
            "0     2281\n",
            "Name: count, dtype: int64\n"
          ]
        }
      ]
    },
    {
      "cell_type": "code",
      "source": [
        "# Initialize tools\n",
        "stop_words = set(stopwords.words('english'))\n",
        "sia = SentimentIntensityAnalyzer()\n",
        "\n",
        "def preprocess_text(text, remove_stopwords=True):\n",
        "    \"\"\"Memory-efficient text preprocessing\"\"\"\n",
        "    text = str(text).lower()\n",
        "    text = re.sub(r\"[^a-z\\s]\", \"\", text)\n",
        "    tokens = word_tokenize(text)\n",
        "    if remove_stopwords:\n",
        "        tokens = [word for word in tokens if word not in stop_words and len(word) > 2]\n",
        "    return tokens\n",
        "\n",
        "# Process text in batches to save memory\n",
        "print(\"Preprocessing text...\")\n",
        "df['tokens'] = df['Phrase'].apply(lambda x: preprocess_text(x, remove_stopwords=True))"
      ],
      "metadata": {
        "colab": {
          "base_uri": "https://localhost:8080/"
        },
        "id": "wGj5LhxepgZD",
        "outputId": "09be7664-afd4-4049-bfe3-c9f6950d51f4"
      },
      "execution_count": 3,
      "outputs": [
        {
          "output_type": "stream",
          "name": "stdout",
          "text": [
            "Preprocessing text...\n"
          ]
        }
      ]
    },
    {
      "cell_type": "code",
      "source": [
        "\n",
        "# Create vocabulary from most frequent words (smaller vocab for memory)\n",
        "print(\"Building vocabulary...\")\n",
        "all_tokens = []\n",
        "for tokens in df['tokens']:\n",
        "    all_tokens.extend(tokens)\n",
        "\n",
        "word_freq = Counter(all_tokens)\n",
        "# Use smaller vocabularies to save memory\n",
        "top_500_words = set([word for word, freq in word_freq.most_common(500)])\n",
        "top_1000_words = set([word for word, freq in word_freq.most_common(1000)])\n",
        "\n",
        "# Clear memory\n",
        "del all_tokens, word_freq\n",
        "gc.collect()"
      ],
      "metadata": {
        "colab": {
          "base_uri": "https://localhost:8080/"
        },
        "id": "Aq0qa7SQpwN5",
        "outputId": "38a75ac3-1254-4b39-c36b-787cdf9aacaf"
      },
      "execution_count": 4,
      "outputs": [
        {
          "output_type": "stream",
          "name": "stdout",
          "text": [
            "Building vocabulary...\n"
          ]
        },
        {
          "output_type": "execute_result",
          "data": {
            "text/plain": [
              "0"
            ]
          },
          "metadata": {},
          "execution_count": 4
        }
      ]
    },
    {
      "cell_type": "code",
      "source": [
        "# Feature Engineering Functions (Memory Optimized)\n",
        "\n",
        "def basic_bag_of_words(tokens, vocab):\n",
        "    \"\"\"Basic bag-of-words features - optimized\"\"\"\n",
        "    return {f'has_{word}': (word in tokens) for word in vocab if word in tokens}\n",
        "\n",
        "def negation_features(text):\n",
        "    \"\"\"Enhanced negation handling - simplified for memory\"\"\"\n",
        "    features = {}\n",
        "    text_lower = str(text).lower()\n",
        "\n",
        "    # Simple negation detection\n",
        "    negation_words = ['not', 'no', 'never', \"n't\", 'without', 'hardly']\n",
        "    has_negation = any(neg in text_lower for neg in negation_words)\n",
        "    features['has_negation'] = has_negation\n",
        "\n",
        "    if has_negation:\n",
        "        # Count negation words\n",
        "        features['negation_count'] = sum(1 for neg in negation_words if neg in text_lower)\n",
        "\n",
        "    return features\n",
        "\n",
        "def sentiment_lexicon_features(text):\n",
        "    \"\"\"Sentiment lexicon features using VADER - simplified\"\"\"\n",
        "    scores = sia.polarity_scores(str(text))\n",
        "\n",
        "    return {\n",
        "        'vader_pos': scores['pos'] > 0.1,\n",
        "        'vader_neg': scores['neg'] > 0.1,\n",
        "        'vader_compound_pos': scores['compound'] > 0.05,\n",
        "        'vader_compound_neg': scores['compound'] < -0.05,\n",
        "        'vader_compound_score': round(scores['compound'], 2)  # Discretized\n",
        "    }\n",
        "\n",
        "def pos_features_simple(tokens):\n",
        "    \"\"\"Simplified POS features to save memory\"\"\"\n",
        "    if not tokens:\n",
        "        return {}\n",
        "\n",
        "    # Only for first 10 tokens to save memory\n",
        "    sample_tokens = tokens[:10]\n",
        "    try:\n",
        "        pos_tags = nltk.pos_tag(sample_tokens)\n",
        "        pos_counts = Counter([tag for _, tag in pos_tags])\n",
        "\n",
        "        # Only track major POS categories\n",
        "        return {\n",
        "            'has_adjectives': any(tag.startswith('JJ') for tag in pos_counts),\n",
        "            'has_adverbs': any(tag.startswith('RB') for tag in pos_counts),\n",
        "            'has_verbs': any(tag.startswith('VB') for tag in pos_counts),\n",
        "            'adj_count': sum(1 for tag in pos_counts if tag.startswith('JJ')),\n",
        "        }\n",
        "    except:\n",
        "        return {}\n",
        "\n",
        "def text_structure_features(text, tokens):\n",
        "    \"\"\"Simple text structure features\"\"\"\n",
        "    text_str = str(text)\n",
        "    return {\n",
        "        'is_short': len(tokens) < 5,\n",
        "        'is_long': len(tokens) > 15,\n",
        "        'has_exclamation': '!' in text_str,\n",
        "        'has_question': '?' in text_str,\n",
        "        'has_caps': any(c.isupper() for c in text_str),\n",
        "        'word_count_bin': min(len(tokens) // 3, 5)  # Binned word count\n",
        "    }\n",
        "\n",
        "# Memory-efficient feature creation\n",
        "def create_features_efficiently(df, feature_type):\n",
        "    \"\"\"Create features one at a time to manage memory\"\"\"\n",
        "    features = []\n",
        "\n",
        "    for idx, row in df.iterrows():\n",
        "        if idx % 5000 == 0:\n",
        "            print(f\"Processing row {idx}/{len(df)}\")\n",
        "            gc.collect()  # Clean up memory periodically\n",
        "\n",
        "        # Initialize feat to an empty dictionary to handle unrecognized feature_types\n",
        "        feat = {}\n",
        "\n",
        "        if feature_type == 'bow_500':\n",
        "            feat = basic_bag_of_words(row['tokens'], top_500_words)\n",
        "        elif feature_type == 'bow_1000':\n",
        "            feat = basic_bag_of_words(row['tokens'], top_1000_words)\n",
        "        elif feature_type == 'bow_5000':\n",
        "             # Create top_2000_words if needed, or handle this case appropriately\n",
        "            if 'top_5000_words' not in globals():\n",
        "                 print(\"Warning: 'top_5000_words' not defined. Skipping bow_5000.\")\n",
        "                 continue # Skip to next row if vocabulary is missing\n",
        "            feat = basic_bag_of_words(row['tokens'], top_5000_words)\n",
        "        elif feature_type == 'negation':\n",
        "            feat = negation_features(row['Phrase'])\n",
        "        elif feature_type == 'sentiment':\n",
        "            feat = sentiment_lexicon_features(row['Phrase'])\n",
        "        elif feature_type == 'combined':\n",
        "            feat = {}\n",
        "            feat.update(basic_bag_of_words(row['tokens'], top_500_words))\n",
        "            feat.update(negation_features(row['Phrase']))\n",
        "            feat.update(sentiment_lexicon_features(row['Phrase']))\n",
        "            feat.update(text_structure_features(row['Phrase'], row['tokens']))\n",
        "\n",
        "        features.append(feat)\n",
        "\n",
        "    return features\n",
        "\n",
        "# Function to evaluate features with memory management\n",
        "def evaluate_features_memory_safe(features, labels, feature_name, sample_size=10000):\n",
        "    \"\"\"Memory-safe evaluation with sampling if needed\"\"\"\n",
        "    print(f\"\\n{'='*50}\")\n",
        "    print(f\"EVALUATING: {feature_name}\")\n",
        "    print(f\"{'='*50}\")\n",
        "\n",
        "    # Sample if dataset is too large\n",
        "    if len(features) > sample_size:\n",
        "        print(f\"Sampling {sample_size} examples for evaluation...\")\n",
        "        indices = random.sample(range(len(features)), sample_size)\n",
        "        features = [features[i] for i in indices]\n",
        "        labels = [labels.iloc[i] for i in indices]\n",
        "\n",
        "    # Convert to matrix\n",
        "    print(\"Converting features to matrix...\")\n",
        "    vec = DictVectorizer(sparse=True)  # Use sparse matrices\n",
        "    X = vec.fit_transform(features)\n",
        "    y = np.array(labels)\n",
        "\n",
        "    print(f\"Feature matrix shape: {X.shape}\")\n",
        "\n",
        "    # Quick evaluation with smaller CV\n",
        "    scoring = ['accuracy', 'f1_macro']\n",
        "\n",
        "    # Logistic Regression with reduced iterations\n",
        "    lr_clf = LogisticRegression(max_iter=500, random_state=42, solver='liblinear')\n",
        "    lr_scores = cross_validate(lr_clf, X, y, cv=3, scoring=scoring)  # 3-fold instead of 5\n",
        "\n",
        "    print(\"LOGISTIC REGRESSION (3-fold CV):\")\n",
        "    print(f\"Accuracy: {lr_scores['test_accuracy'].mean():.4f} (+/- {lr_scores['test_accuracy'].std() * 2:.4f})\")\n",
        "    print(f\"F1-Score: {lr_scores['test_f1_macro'].mean():.4f} (+/- {lr_scores['test_f1_macro'].std() * 2:.4f})\")\n",
        "\n",
        "    # Clean up memory\n",
        "    del X, vec\n",
        "    gc.collect()\n",
        "\n",
        "    return {\n",
        "        'accuracy': lr_scores['test_accuracy'].mean(),\n",
        "        'f1': lr_scores['test_f1_macro'].mean(),\n",
        "        'accuracy_std': lr_scores['test_accuracy'].std()\n",
        "    }"
      ],
      "metadata": {
        "id": "1fQ5kStEqTxf"
      },
      "execution_count": 5,
      "outputs": []
    },
    {
      "cell_type": "code",
      "source": [
        "# Subsample the data for memory efficiency\n",
        "MAX_ROWS = 5000\n",
        "if len(df) > MAX_ROWS:\n",
        "    df = df.sample(n=MAX_ROWS, random_state=42).reset_index(drop=True)\n",
        "    print(f\"Subsampled dataset to {MAX_ROWS} rows\")\n"
      ],
      "metadata": {
        "colab": {
          "base_uri": "https://localhost:8080/"
        },
        "id": "kUiOwt_zqiy0",
        "outputId": "7ee5e160-25c8-4d65-a261-0df01bb5f958"
      },
      "execution_count": 6,
      "outputs": [
        {
          "output_type": "stream",
          "name": "stdout",
          "text": [
            "Subsampled dataset to 5000 rows\n"
          ]
        }
      ]
    },
    {
      "cell_type": "code",
      "source": [
        "from sklearn.model_selection import train_test_split\n",
        "from sklearn.metrics import classification_report, confusion_matrix\n",
        "from sklearn.feature_extraction import DictVectorizer\n",
        "from collections import Counter\n",
        "\n",
        "def preprocess(text, remove_stopwords=True):\n",
        "    tokens = text.lower().split()\n",
        "    tokens = [t for t in tokens if t.isalpha()]\n",
        "    if remove_stopwords:\n",
        "        tokens = [t for t in tokens if t not in stop_words]\n",
        "    return tokens\n",
        "\n",
        "def extract_features(row, remove_stopwords):\n",
        "    tokens = preprocess(row[\"Phrase\"], remove_stopwords)\n",
        "    bow = dict(Counter(tokens))\n",
        "    bow.update({\n",
        "        \"vader_neg\": row.get(\"vader_neg\", 0),\n",
        "        \"vader_neu\": row.get(\"vader_neu\", 0),\n",
        "        \"vader_pos\": row.get(\"vader_pos\", 0),\n",
        "        \"vader_compound\": row.get(\"vader_compound\", 0),\n",
        "    })\n",
        "    return bow\n",
        "\n",
        "results = []\n",
        "\n",
        "for remove_sw in [True, False]:\n",
        "    df[\"features\"] = df.apply(lambda row: extract_features(row, remove_sw), axis=1)\n",
        "    vec = DictVectorizer(sparse=False)\n",
        "    X = vec.fit_transform(df[\"features\"])\n",
        "    y = df[\"Sentiment\"]\n",
        "\n",
        "    X_train, X_test, y_train, y_test = train_test_split(X, y, test_size=0.3, random_state=42)\n",
        "    model = LogisticRegression(max_iter=200)\n",
        "    model.fit(X_train, y_train)\n",
        "    y_pred = model.predict(X_test)\n",
        "\n",
        "    acc = model.score(X_test, y_test)\n",
        "    report = classification_report(y_test, y_pred)\n",
        "    cm = confusion_matrix(y_test, y_pred)\n",
        "\n",
        "    print(f\"Stopwords Removed: {remove_sw}\")\n",
        "    print(f\"Accuracy: {acc:.3f}\")\n",
        "    print(\"Classification Report:\")\n",
        "    print(report)\n",
        "    print(\"Confusion Matrix:\")\n",
        "    print(cm)\n",
        "    print(\"=\"*60)"
      ],
      "metadata": {
        "colab": {
          "base_uri": "https://localhost:8080/"
        },
        "id": "n99NMyqNqPTQ",
        "outputId": "2a7c00b5-981a-487f-8bf5-3b1fb75a43a7"
      },
      "execution_count": 7,
      "outputs": [
        {
          "output_type": "stream",
          "name": "stdout",
          "text": [
            "Stopwords Removed: True\n",
            "Accuracy: 0.554\n",
            "Classification Report:\n",
            "              precision    recall  f1-score   support\n",
            "\n",
            "           0       0.36      0.08      0.12        66\n",
            "           1       0.45      0.17      0.25       264\n",
            "           2       0.59      0.91      0.71       760\n",
            "           3       0.46      0.23      0.31       332\n",
            "           4       0.31      0.14      0.19        78\n",
            "\n",
            "    accuracy                           0.55      1500\n",
            "   macro avg       0.43      0.31      0.32      1500\n",
            "weighted avg       0.51      0.55      0.49      1500\n",
            "\n",
            "Confusion Matrix:\n",
            "[[  5  18  36   5   2]\n",
            " [  6  45 190  21   2]\n",
            " [  2  25 692  37   4]\n",
            " [  1  11 226  78  16]\n",
            " [  0   2  36  29  11]]\n",
            "============================================================\n",
            "Stopwords Removed: False\n",
            "Accuracy: 0.547\n",
            "Classification Report:\n",
            "              precision    recall  f1-score   support\n",
            "\n",
            "           0       0.44      0.17      0.24        66\n",
            "           1       0.41      0.22      0.28       264\n",
            "           2       0.60      0.87      0.71       760\n",
            "           3       0.40      0.23      0.29       332\n",
            "           4       0.33      0.14      0.20        78\n",
            "\n",
            "    accuracy                           0.55      1500\n",
            "   macro avg       0.44      0.33      0.35      1500\n",
            "weighted avg       0.50      0.55      0.50      1500\n",
            "\n",
            "Confusion Matrix:\n",
            "[[ 11  15  32   6   2]\n",
            " [  8  57 172  27   0]\n",
            " [  2  40 664  49   5]\n",
            " [  3  23 214  77  15]\n",
            " [  1   5  29  32  11]]\n",
            "============================================================\n"
          ]
        }
      ]
    },
    {
      "cell_type": "code",
      "source": [
        "# Run experiments efficiently\n",
        "print(\"\\n\" + \"=\"*60)\n",
        "print(\"RUNNING MEMORY-EFFICIENT EXPERIMENTS\")\n",
        "print(\"=\"*60)\n",
        "\n",
        "results = {}\n",
        "\n",
        "# Experiment 1: Different vocabulary sizes\n",
        "print(\"\\nExperiment 1: Vocabulary Size Comparison\")\n",
        "features_500 = create_features_efficiently(df, 'bow_500')\n",
        "results['BOW_500'] = evaluate_features_memory_safe(features_500, df['Sentiment'], 'Bag of Words (500 words)')\n",
        "del features_500\n",
        "gc.collect()\n",
        "\n",
        "features_1000 = create_features_efficiently(df, 'bow_1000')\n",
        "results['BOW_1000'] = evaluate_features_memory_safe(features_1000, df['Sentiment'], 'Bag of Words (1000 words)')\n",
        "del features_1000\n",
        "gc.collect()\n",
        "\n"
      ],
      "metadata": {
        "colab": {
          "base_uri": "https://localhost:8080/"
        },
        "id": "iAJwKywNqe5b",
        "outputId": "5c9d8ad6-e935-4a09-933f-45916a34a900"
      },
      "execution_count": 8,
      "outputs": [
        {
          "output_type": "stream",
          "name": "stdout",
          "text": [
            "\n",
            "============================================================\n",
            "RUNNING MEMORY-EFFICIENT EXPERIMENTS\n",
            "============================================================\n",
            "\n",
            "Experiment 1: Vocabulary Size Comparison\n",
            "Processing row 0/5000\n",
            "\n",
            "==================================================\n",
            "EVALUATING: Bag of Words (500 words)\n",
            "==================================================\n",
            "Converting features to matrix...\n",
            "Feature matrix shape: (5000, 500)\n",
            "LOGISTIC REGRESSION (3-fold CV):\n",
            "Accuracy: 0.5258 (+/- 0.0140)\n",
            "F1-Score: 0.2691 (+/- 0.0052)\n",
            "Processing row 0/5000\n",
            "\n",
            "==================================================\n",
            "EVALUATING: Bag of Words (1000 words)\n",
            "==================================================\n",
            "Converting features to matrix...\n",
            "Feature matrix shape: (5000, 991)\n",
            "LOGISTIC REGRESSION (3-fold CV):\n",
            "Accuracy: 0.5312 (+/- 0.0153)\n",
            "F1-Score: 0.2766 (+/- 0.0096)\n"
          ]
        },
        {
          "output_type": "execute_result",
          "data": {
            "text/plain": [
              "0"
            ]
          },
          "metadata": {},
          "execution_count": 8
        }
      ]
    },
    {
      "cell_type": "code",
      "metadata": {
        "colab": {
          "base_uri": "https://localhost:8080/"
        },
        "id": "26cce89b",
        "outputId": "5d5eefb7-3b1c-4e43-ff10-89a20d6d4265"
      },
      "source": [
        "# Create top 5000 words vocabulary\n",
        "print(\"Building 5000-word vocabulary...\")\n",
        "all_tokens = []\n",
        "for tokens in df['tokens']:\n",
        "    all_tokens.extend(tokens)\n",
        "\n",
        "word_freq = Counter(all_tokens)\n",
        "top_5000_words = set([word for word, freq in word_freq.most_common(5000)])\n",
        "\n",
        "# Clear memory\n",
        "del all_tokens, word_freq\n",
        "gc.collect()"
      ],
      "execution_count": 9,
      "outputs": [
        {
          "output_type": "stream",
          "name": "stdout",
          "text": [
            "Building 5000-word vocabulary...\n"
          ]
        },
        {
          "output_type": "execute_result",
          "data": {
            "text/plain": [
              "0"
            ]
          },
          "metadata": {},
          "execution_count": 9
        }
      ]
    },
    {
      "cell_type": "code",
      "source": [
        "# Experiment: Larger vocabulary sizes\n",
        "print(\"\\nExperiment 1: Vocabulary Size Comparison (cont.)\")\n",
        "\n",
        "features_5000 = create_features_efficiently(df, 'bow_5000')\n",
        "results['BOW_5000'] = evaluate_features_memory_safe(features_5000, df['Sentiment'], 'Bag of Words (5000 words)')\n",
        "del features_5000\n",
        "gc.collect()"
      ],
      "metadata": {
        "colab": {
          "base_uri": "https://localhost:8080/"
        },
        "id": "r0y1WFGl71Rs",
        "outputId": "d0448bff-34d4-43f7-a001-5c4544421709"
      },
      "execution_count": 10,
      "outputs": [
        {
          "output_type": "stream",
          "name": "stdout",
          "text": [
            "\n",
            "Experiment 1: Vocabulary Size Comparison (cont.)\n",
            "Processing row 0/5000\n",
            "\n",
            "==================================================\n",
            "EVALUATING: Bag of Words (5000 words)\n",
            "==================================================\n",
            "Converting features to matrix...\n",
            "Feature matrix shape: (5000, 5000)\n",
            "LOGISTIC REGRESSION (3-fold CV):\n",
            "Accuracy: 0.5378 (+/- 0.0195)\n",
            "F1-Score: 0.2883 (+/- 0.0149)\n"
          ]
        },
        {
          "output_type": "execute_result",
          "data": {
            "text/plain": [
              "0"
            ]
          },
          "metadata": {},
          "execution_count": 10
        }
      ]
    },
    {
      "cell_type": "code",
      "source": [
        "# Experiment 2: Individual feature types\n",
        "print(\"\\nExperiment 2: Individual Feature Types\")\n",
        "features_neg = create_features_efficiently(df, 'negation')\n",
        "results['Negation'] = evaluate_features_memory_safe(features_neg, df['Sentiment'], 'Negation Features')\n",
        "del features_neg\n",
        "gc.collect()\n",
        "\n",
        "features_sent = create_features_efficiently(df, 'sentiment')\n",
        "results['Sentiment'] = evaluate_features_memory_safe(features_sent, df['Sentiment'], 'Sentiment Features')\n",
        "del features_sent\n",
        "gc.collect()"
      ],
      "metadata": {
        "colab": {
          "base_uri": "https://localhost:8080/"
        },
        "id": "8YRdtyrYqhRI",
        "outputId": "051ffd0a-7b5f-47ab-aec6-e6b3ab76baf8"
      },
      "execution_count": 11,
      "outputs": [
        {
          "output_type": "stream",
          "name": "stdout",
          "text": [
            "\n",
            "Experiment 2: Individual Feature Types\n",
            "Processing row 0/5000\n",
            "\n",
            "==================================================\n",
            "EVALUATING: Negation Features\n",
            "==================================================\n",
            "Converting features to matrix...\n",
            "Feature matrix shape: (5000, 2)\n",
            "LOGISTIC REGRESSION (3-fold CV):\n",
            "Accuracy: 0.5038 (+/- 0.0016)\n",
            "F1-Score: 0.1344 (+/- 0.0009)\n",
            "Processing row 0/5000\n",
            "\n",
            "==================================================\n",
            "EVALUATING: Sentiment Features\n",
            "==================================================\n",
            "Converting features to matrix...\n",
            "Feature matrix shape: (5000, 5)\n",
            "LOGISTIC REGRESSION (3-fold CV):\n",
            "Accuracy: 0.5394 (+/- 0.0081)\n",
            "F1-Score: 0.2942 (+/- 0.0052)\n"
          ]
        },
        {
          "output_type": "execute_result",
          "data": {
            "text/plain": [
              "0"
            ]
          },
          "metadata": {},
          "execution_count": 11
        }
      ]
    },
    {
      "cell_type": "code",
      "source": [
        "# Experiment 3: Combined features\n",
        "print(\"\\nExperiment 3: Combined Features\")\n",
        "features_combined = create_features_efficiently(df, 'combined')\n",
        "results['Combined'] = evaluate_features_memory_safe(features_combined, df['Sentiment'], 'Combined Features')\n",
        "\n",
        "# NLTK Naive Bayes on combined features (smaller sample)\n",
        "print(f\"\\n{'='*50}\")\n",
        "print(\"NLTK NAIVE BAYES EVALUATION\")\n",
        "print(f\"{'='*50}\")\n",
        "\n",
        "# Use smaller sample for NLTK\n",
        "sample_size = 5000\n",
        "if len(features_combined) > sample_size:\n",
        "    indices = random.sample(range(len(features_combined)), sample_size)\n",
        "    nltk_features = [features_combined[i] for i in indices]\n",
        "    nltk_labels = [df['Sentiment'].iloc[i] for i in indices]\n",
        "else:\n",
        "    nltk_features = features_combined\n",
        "    nltk_labels = df['Sentiment'].tolist()\n",
        "\n",
        "# Create NLTK data\n",
        "nltk_data = list(zip(nltk_features, nltk_labels))\n",
        "random.shuffle(nltk_data)\n",
        "split_idx = int(len(nltk_data) * 0.8)\n",
        "train_data = nltk_data[:split_idx]\n",
        "test_data = nltk_data[split_idx:]\n",
        "\n",
        "# Train NLTK classifier\n",
        "print(\"Training NLTK Naive Bayes...\")\n",
        "nltk_classifier = NaiveBayesClassifier.train(train_data)\n",
        "nltk_accuracy = accuracy(nltk_classifier, test_data)\n",
        "print(f\"NLTK Naive Bayes Accuracy: {nltk_accuracy:.4f}\")\n",
        "\n",
        "print(\"\\nTop 10 Most Informative Features:\")\n",
        "nltk_classifier.show_most_informative_features(10)"
      ],
      "metadata": {
        "colab": {
          "base_uri": "https://localhost:8080/"
        },
        "id": "SXhv460-qtxo",
        "outputId": "4c11005a-30da-4003-f2ea-216bfa36e4f6"
      },
      "execution_count": 12,
      "outputs": [
        {
          "output_type": "stream",
          "name": "stdout",
          "text": [
            "\n",
            "Experiment 3: Combined Features\n",
            "Processing row 0/5000\n",
            "\n",
            "==================================================\n",
            "EVALUATING: Combined Features\n",
            "==================================================\n",
            "Converting features to matrix...\n",
            "Feature matrix shape: (5000, 513)\n",
            "LOGISTIC REGRESSION (3-fold CV):\n",
            "Accuracy: 0.5560 (+/- 0.0135)\n",
            "F1-Score: 0.3396 (+/- 0.0096)\n",
            "\n",
            "==================================================\n",
            "NLTK NAIVE BAYES EVALUATION\n",
            "==================================================\n",
            "Training NLTK Naive Bayes...\n",
            "NLTK Naive Bayes Accuracy: 0.4720\n",
            "\n",
            "Top 10 Most Informative Features:\n",
            "Most Informative Features\n",
            "                 has_bad = True                0 : 2      =     33.1 : 1.0\n",
            "               has_tired = True                0 : 2      =     33.1 : 1.0\n",
            "                has_best = True                4 : 2      =     31.5 : 1.0\n",
            "                has_well = True                4 : 2      =     30.0 : 1.0\n",
            "         has_performance = True                4 : 2      =     27.8 : 1.0\n",
            "               has_solid = True                4 : 2      =     24.5 : 1.0\n",
            "                has_year = True                4 : 2      =     22.2 : 1.0\n",
            "    vader_compound_score = 0.64                4 : 1      =     21.6 : 1.0\n",
            "                has_dull = True                0 : 2      =     19.9 : 1.0\n",
            "                has_want = True                0 : 2      =     19.9 : 1.0\n"
          ]
        }
      ]
    },
    {
      "cell_type": "code",
      "source": [
        "\n",
        "\n",
        "# Results summary\n",
        "print(f\"\\n{'='*60}\")\n",
        "print(\"RESULTS SUMMARY\")\n",
        "print(f\"{'='*60}\")\n",
        "\n",
        "for exp_name, scores in results.items():\n",
        "    print(f\"{exp_name:15} | Accuracy: {scores['accuracy']:.4f} | F1: {scores['f1']:.4f}\")\n",
        "\n",
        "# Simple visualization\n",
        "experiment_names = list(results.keys())\n",
        "accuracies = [results[exp]['accuracy'] for exp in experiment_names]\n",
        "f1_scores = [results[exp]['f1'] for exp in experiment_names]\n",
        "\n",
        "plt.figure(figsize=(10, 6))\n",
        "x_pos = np.arange(len(experiment_names))\n",
        "\n",
        "plt.bar(x_pos - 0.2, accuracies, 0.4, label='Accuracy', alpha=0.8)\n",
        "plt.bar(x_pos + 0.2, f1_scores, 0.4, label='F1-Score', alpha=0.8)\n",
        "\n",
        "plt.xlabel('Feature Sets')\n",
        "plt.ylabel('Score')\n",
        "plt.title('Classification Performance Comparison (Memory Optimized)')\n",
        "plt.xticks(x_pos, experiment_names, rotation=45)\n",
        "plt.legend()\n",
        "plt.grid(axis='y', alpha=0.3)\n",
        "plt.tight_layout()\n",
        "plt.show()"
      ],
      "metadata": {
        "colab": {
          "base_uri": "https://localhost:8080/",
          "height": 777
        },
        "id": "-qkPgAQbqzUk",
        "outputId": "904aee35-ac40-419e-ce25-0ed0227d1fd8"
      },
      "execution_count": 13,
      "outputs": [
        {
          "output_type": "stream",
          "name": "stdout",
          "text": [
            "\n",
            "============================================================\n",
            "RESULTS SUMMARY\n",
            "============================================================\n",
            "BOW_500         | Accuracy: 0.5258 | F1: 0.2691\n",
            "BOW_1000        | Accuracy: 0.5312 | F1: 0.2766\n",
            "BOW_5000        | Accuracy: 0.5378 | F1: 0.2883\n",
            "Negation        | Accuracy: 0.5038 | F1: 0.1344\n",
            "Sentiment       | Accuracy: 0.5394 | F1: 0.2942\n",
            "Combined        | Accuracy: 0.5560 | F1: 0.3396\n"
          ]
        },
        {
          "output_type": "display_data",
          "data": {
            "text/plain": [
              "<Figure size 1000x600 with 1 Axes>"
            ],
            "image/png": "[encoded data removed]"
          },
          "metadata": {}
        }
      ]
    },
    {
      "cell_type": "code",
      "execution_count": 14,
      "metadata": {
        "colab": {
          "base_uri": "https://localhost:8080/"
        },
        "id": "rlsfLc7ryge-",
        "outputId": "ea55a155-e22e-476f-d79d-bbd9448f9932"
      },
      "outputs": [
        {
          "output_type": "stream",
          "name": "stdout",
          "text": [
            "\n",
            "==================================================\n",
            "FINAL MODEL ANALYSIS\n",
            "==================================================\n",
            "Final Model Performance:\n",
            "              precision    recall  f1-score   support\n",
            "\n",
            "           0       0.20      0.03      0.06        29\n",
            "           1       0.36      0.15      0.21        99\n",
            "           2       0.59      0.88      0.70       289\n",
            "           3       0.46      0.37      0.41       138\n",
            "           4       0.20      0.04      0.07        45\n",
            "\n",
            "    accuracy                           0.54       600\n",
            "   macro avg       0.36      0.30      0.29       600\n",
            "weighted avg       0.47      0.54      0.48       600\n",
            "\n",
            "\n",
            "Top 15 Most Important Features:\n",
            "vader_compound_score: 1.3438\n",
            "has_performance: 0.8688\n",
            "has_flat: 0.7257\n",
            "has_fantasy: 0.6769\n",
            "has_first: 0.6768\n",
            "has_bad: 0.6672\n",
            "has_moments: 0.6614\n",
            "has_like: 0.6570\n",
            "vader_compound_neg: 0.6396\n",
            "has_care: 0.6360\n",
            "has_rather: 0.6351\n",
            "has_screen: 0.6100\n",
            "has_book: 0.6039\n",
            "has_nice: 0.6026\n",
            "has_better: 0.5928\n",
            "\n",
            "==================================================\n",
            "MEMORY-EFFICIENT ANALYSIS COMPLETE!\n",
            "==================================================\n",
            "Key optimizations made:\n",
            "1. Reduced vocabulary size (500/1000 vs 1000/2000)\n",
            "2. Simplified feature functions\n",
            "3. Used sparse matrices\n",
            "4. Processed data in batches\n",
            "5. Used garbage collection\n",
            "6. Sampled large datasets\n",
            "7. Reduced cross-validation folds\n"
          ]
        }
      ],
      "source": [
        "\n",
        "\n",
        "# Final analysis on a small test set\n",
        "print(f\"\\n{'='*50}\")\n",
        "print(\"FINAL MODEL ANALYSIS\")\n",
        "print(f\"{'='*50}\")\n",
        "\n",
        "# Use combined features for final analysis\n",
        "sample_indices = random.sample(range(len(features_combined)), 2000)\n",
        "X_sample = [features_combined[i] for i in sample_indices]\n",
        "y_sample = [df['Sentiment'].iloc[i] for i in sample_indices]\n",
        "\n",
        "# Convert to matrix\n",
        "vec_final = DictVectorizer(sparse=True)\n",
        "X_final = vec_final.fit_transform(X_sample)\n",
        "y_final = np.array(y_sample)\n",
        "\n",
        "# Train-test split\n",
        "X_train, X_test, y_train, y_test = train_test_split(X_final, y_final, test_size=0.3, random_state=42)\n",
        "\n",
        "# Train final model\n",
        "final_model = LogisticRegression(max_iter=500, random_state=42, solver='liblinear')\n",
        "final_model.fit(X_train, y_train)\n",
        "y_pred = final_model.predict(X_test)\n",
        "\n",
        "print(\"Final Model Performance:\")\n",
        "print(classification_report(y_test, y_pred))\n",
        "\n",
        "# Feature importance (top coefficients)\n",
        "feature_names = vec_final.get_feature_names_out()\n",
        "if hasattr(final_model, 'coef_'):\n",
        "    # For binary classification, take absolute values\n",
        "    if len(final_model.coef_) == 1:\n",
        "        coeffs = np.abs(final_model.coef_[0])\n",
        "    else:\n",
        "        coeffs = np.abs(final_model.coef_).mean(axis=0)\n",
        "\n",
        "    # Get top features\n",
        "    top_indices = np.argsort(coeffs)[-15:]\n",
        "    print(f\"\\nTop 15 Most Important Features:\")\n",
        "    for idx in reversed(top_indices):\n",
        "        print(f\"{feature_names[idx]}: {coeffs[idx]:.4f}\")\n",
        "\n",
        "print(f\"\\n{'='*50}\")\n",
        "print(\"MEMORY-EFFICIENT ANALYSIS COMPLETE!\")\n",
        "print(f\"{'='*50}\")\n",
        "print(\"Key optimizations made:\")\n",
        "print(\"1. Reduced vocabulary size (500/1000 vs 1000/2000)\")\n",
        "print(\"2. Simplified feature functions\")\n",
        "print(\"3. Used sparse matrices\")\n",
        "print(\"4. Processed data in batches\")\n",
        "print(\"5. Used garbage collection\")\n",
        "print(\"6. Sampled large datasets\")\n",
        "print(\"7. Reduced cross-validation folds\")"
      ]
    },
    {
      "cell_type": "code",
      "source": [
        "from sklearn.metrics import classification_report, confusion_matrix\n",
        "from sklearn.feature_extraction import DictVectorizer\n",
        "\n",
        "# Recreate the feature matrix using combined features\n",
        "print(\"Recreating feature matrix for evaluation...\")\n",
        "vec_eval = DictVectorizer(sparse=True)\n",
        "X_features = vec_eval.fit_transform(features_combined)\n",
        "y = df['Sentiment'].values  # Ensure y is a numpy array\n",
        "\n",
        "# Evaluate on test set\n",
        "X_train, X_test, y_train, y_test = train_test_split(X_features, y, test_size=0.2, random_state=42)\n",
        "model = LogisticRegression(max_iter=500)\n",
        "model.fit(X_train, y_train)\n",
        "y_pred = model.predict(X_test)\n",
        "\n",
        "# Print evaluation\n",
        "print(\"Accuracy:\", model.score(X_test, y_test))\n",
        "print(classification_report(y_test, y_pred))\n",
        "print(\"Confusion Matrix:\")\n",
        "print(confusion_matrix(y_test, y_pred))"
      ],
      "metadata": {
        "colab": {
          "base_uri": "https://localhost:8080/"
        },
        "id": "uFh5VIG0HDJi",
        "outputId": "0dd6a564-9f5f-4294-9f12-92bb3b9e30d8"
      },
      "execution_count": 15,
      "outputs": [
        {
          "output_type": "stream",
          "name": "stdout",
          "text": [
            "Recreating feature matrix for evaluation...\n",
            "Accuracy: 0.549\n",
            "              precision    recall  f1-score   support\n",
            "\n",
            "           0       0.24      0.09      0.13        45\n",
            "           1       0.40      0.20      0.27       180\n",
            "           2       0.62      0.83      0.71       519\n",
            "           3       0.39      0.34      0.36       202\n",
            "           4       0.35      0.15      0.21        54\n",
            "\n",
            "    accuracy                           0.55      1000\n",
            "   macro avg       0.40      0.32      0.34      1000\n",
            "weighted avg       0.50      0.55      0.51      1000\n",
            "\n",
            "Confusion Matrix:\n",
            "[[  4  15  18   6   2]\n",
            " [ 11  36 117  15   1]\n",
            " [  1  25 433  57   3]\n",
            " [  1  11 113  68   9]\n",
            " [  0   3  13  30   8]]\n"
          ]
        }
      ]
    },
    {
      "cell_type": "code",
      "source": [
        "cv_results = cross_validate(model, X_features, y, cv=3, scoring=['accuracy', 'f1_macro'])\n",
        "print(\"Cross-validated Accuracy:\", cv_results['test_accuracy'].mean())\n",
        "print(\"Cross-validated F1 Score:\", cv_results['test_f1_macro'].mean())\n"
      ],
      "metadata": {
        "id": "C7b0uEmtHE5e",
        "colab": {
          "base_uri": "https://localhost:8080/"
        },
        "outputId": "988fc4c6-e79a-4989-9b6f-7901d93999d4"
      },
      "execution_count": 16,
      "outputs": [
        {
          "output_type": "stream",
          "name": "stdout",
          "text": [
            "Cross-validated Accuracy: 0.5536017646410695\n",
            "Cross-validated F1 Score: 0.34890831445983167\n"
          ]
        }
      ]
    }
  ]
}